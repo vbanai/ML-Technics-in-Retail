{
  "nbformat": 4,
  "nbformat_minor": 0,
  "metadata": {
    "colab": {
      "name": "A/B Tests (fast food marketing campaign, webdesign).ipynb",
      "provenance": [],
      "authorship_tag": "ABX9TyMjpxXA0hZDfxledGo8N71B",
      "include_colab_link": true
    },
    "kernelspec": {
      "name": "python3",
      "display_name": "Python 3"
    },
    "language_info": {
      "name": "python"
    }
  },
  "cells": [
    {
      "cell_type": "markdown",
      "metadata": {
        "id": "view-in-github",
        "colab_type": "text"
      },
      "source": [
        "<a href=\"https://colab.research.google.com/github/vbanai/ML-Technics-in-Sales-and-Marketing/blob/main/A_B_Tests_(fast_food_marketing_campaign%2C_webdesign).ipynb\" target=\"_parent\"><img src=\"https://colab.research.google.com/assets/colab-badge.svg\" alt=\"Open In Colab\"/></a>"
      ]
    },
    {
      "cell_type": "markdown",
      "metadata": {
        "id": "x6pEkshXHO1g"
      },
      "source": [
        "1.) A/B TEST FOR DATASET WITH CONTINUOUS VALUE</br>\n",
        "    Fast Food Marketing Campaign"
      ]
    },
    {
      "cell_type": "markdown",
      "metadata": {
        "id": "NEkF_iyqnch2"
      },
      "source": [
        "Dataset is downloaded from Kaggle. The scenario is that a fast food chain plans to add a new item to its menu. One of the common questions being what promotion has the greatest effect on sales. In order to determine this, the new item is introduced at locations in several randomly selected markets using three different marketing campaigns. I would like to carry out A/B testing among the promotion campaigns to see which is the best option."
      ]
    },
    {
      "cell_type": "code",
      "metadata": {
        "id": "ww8tWsSjTCIL",
        "colab": {
          "base_uri": "https://localhost:8080/"
        },
        "outputId": "119c42ee-be4b-4604-e041-4051e2f47dbc"
      },
      "source": [
        "import os\n",
        "\n",
        "\n",
        "os.environ['KAGGLE_USERNAME'] = \"viktorbanai\" # username from the json file\n",
        "os.environ['KAGGLE_KEY'] = \"9431db56af1a1a63cab88b4e516a2248\" # key from the json file\n",
        "!kaggle datasets download -d duonghoanvu1/marketing-campaign-fast-food # api copied from kaggle\n",
        "\n",
        "!mkdir file_file_destination_a_b_testing\n",
        "!unzip -u \"/content/marketing-campaign-fast-food.zip\" -d \"/content/file_destination_a_b_testing\"\n",
        "\n"
      ],
      "execution_count": 1,
      "outputs": [
        {
          "output_type": "stream",
          "name": "stdout",
          "text": [
            "Downloading marketing-campaign-fast-food.zip to /content\n",
            "\r  0% 0.00/3.36k [00:00<?, ?B/s]\n",
            "\r100% 3.36k/3.36k [00:00<00:00, 2.33MB/s]\n",
            "Archive:  /content/marketing-campaign-fast-food.zip\n",
            "  inflating: /content/file_destination_a_b_testing/WA_Fn-UseC_-Marketing-Campaign-Eff-UseC_-FastF.csv  \n"
          ]
        }
      ]
    },
    {
      "cell_type": "code",
      "metadata": {
        "colab": {
          "base_uri": "https://localhost:8080/",
          "height": 206
        },
        "id": "Z29mxyasUXAw",
        "outputId": "8c8f89d3-e9bf-4435-9261-a397b15c4017"
      },
      "source": [
        "import pandas as pd\n",
        "df_initial = pd.read_csv(\"/content/file_destination_a_b_testing/WA_Fn-UseC_-Marketing-Campaign-Eff-UseC_-FastF.csv\")\n",
        "df_initial.head()"
      ],
      "execution_count": 2,
      "outputs": [
        {
          "output_type": "execute_result",
          "data": {
            "text/plain": [
              "   MarketID MarketSize  LocationID  AgeOfStore  Promotion  week  \\\n",
              "0         1     Medium           1           4          3     1   \n",
              "1         1     Medium           1           4          3     2   \n",
              "2         1     Medium           1           4          3     3   \n",
              "3         1     Medium           1           4          3     4   \n",
              "4         1     Medium           2           5          2     1   \n",
              "\n",
              "   SalesInThousands  \n",
              "0             33.73  \n",
              "1             35.67  \n",
              "2             29.03  \n",
              "3             39.25  \n",
              "4             27.81  "
            ],
            "text/html": [
              "\n",
              "  <div id=\"df-64255894-40ca-4942-8cd0-a41834cbc53f\">\n",
              "    <div class=\"colab-df-container\">\n",
              "      <div>\n",
              "<style scoped>\n",
              "    .dataframe tbody tr th:only-of-type {\n",
              "        vertical-align: middle;\n",
              "    }\n",
              "\n",
              "    .dataframe tbody tr th {\n",
              "        vertical-align: top;\n",
              "    }\n",
              "\n",
              "    .dataframe thead th {\n",
              "        text-align: right;\n",
              "    }\n",
              "</style>\n",
              "<table border=\"1\" class=\"dataframe\">\n",
              "  <thead>\n",
              "    <tr style=\"text-align: right;\">\n",
              "      <th></th>\n",
              "      <th>MarketID</th>\n",
              "      <th>MarketSize</th>\n",
              "      <th>LocationID</th>\n",
              "      <th>AgeOfStore</th>\n",
              "      <th>Promotion</th>\n",
              "      <th>week</th>\n",
              "      <th>SalesInThousands</th>\n",
              "    </tr>\n",
              "  </thead>\n",
              "  <tbody>\n",
              "    <tr>\n",
              "      <th>0</th>\n",
              "      <td>1</td>\n",
              "      <td>Medium</td>\n",
              "      <td>1</td>\n",
              "      <td>4</td>\n",
              "      <td>3</td>\n",
              "      <td>1</td>\n",
              "      <td>33.73</td>\n",
              "    </tr>\n",
              "    <tr>\n",
              "      <th>1</th>\n",
              "      <td>1</td>\n",
              "      <td>Medium</td>\n",
              "      <td>1</td>\n",
              "      <td>4</td>\n",
              "      <td>3</td>\n",
              "      <td>2</td>\n",
              "      <td>35.67</td>\n",
              "    </tr>\n",
              "    <tr>\n",
              "      <th>2</th>\n",
              "      <td>1</td>\n",
              "      <td>Medium</td>\n",
              "      <td>1</td>\n",
              "      <td>4</td>\n",
              "      <td>3</td>\n",
              "      <td>3</td>\n",
              "      <td>29.03</td>\n",
              "    </tr>\n",
              "    <tr>\n",
              "      <th>3</th>\n",
              "      <td>1</td>\n",
              "      <td>Medium</td>\n",
              "      <td>1</td>\n",
              "      <td>4</td>\n",
              "      <td>3</td>\n",
              "      <td>4</td>\n",
              "      <td>39.25</td>\n",
              "    </tr>\n",
              "    <tr>\n",
              "      <th>4</th>\n",
              "      <td>1</td>\n",
              "      <td>Medium</td>\n",
              "      <td>2</td>\n",
              "      <td>5</td>\n",
              "      <td>2</td>\n",
              "      <td>1</td>\n",
              "      <td>27.81</td>\n",
              "    </tr>\n",
              "  </tbody>\n",
              "</table>\n",
              "</div>\n",
              "      <button class=\"colab-df-convert\" onclick=\"convertToInteractive('df-64255894-40ca-4942-8cd0-a41834cbc53f')\"\n",
              "              title=\"Convert this dataframe to an interactive table.\"\n",
              "              style=\"display:none;\">\n",
              "        \n",
              "  <svg xmlns=\"http://www.w3.org/2000/svg\" height=\"24px\"viewBox=\"0 0 24 24\"\n",
              "       width=\"24px\">\n",
              "    <path d=\"M0 0h24v24H0V0z\" fill=\"none\"/>\n",
              "    <path d=\"M18.56 5.44l.94 2.06.94-2.06 2.06-.94-2.06-.94-.94-2.06-.94 2.06-2.06.94zm-11 1L8.5 8.5l.94-2.06 2.06-.94-2.06-.94L8.5 2.5l-.94 2.06-2.06.94zm10 10l.94 2.06.94-2.06 2.06-.94-2.06-.94-.94-2.06-.94 2.06-2.06.94z\"/><path d=\"M17.41 7.96l-1.37-1.37c-.4-.4-.92-.59-1.43-.59-.52 0-1.04.2-1.43.59L10.3 9.45l-7.72 7.72c-.78.78-.78 2.05 0 2.83L4 21.41c.39.39.9.59 1.41.59.51 0 1.02-.2 1.41-.59l7.78-7.78 2.81-2.81c.8-.78.8-2.07 0-2.86zM5.41 20L4 18.59l7.72-7.72 1.47 1.35L5.41 20z\"/>\n",
              "  </svg>\n",
              "      </button>\n",
              "      \n",
              "  <style>\n",
              "    .colab-df-container {\n",
              "      display:flex;\n",
              "      flex-wrap:wrap;\n",
              "      gap: 12px;\n",
              "    }\n",
              "\n",
              "    .colab-df-convert {\n",
              "      background-color: #E8F0FE;\n",
              "      border: none;\n",
              "      border-radius: 50%;\n",
              "      cursor: pointer;\n",
              "      display: none;\n",
              "      fill: #1967D2;\n",
              "      height: 32px;\n",
              "      padding: 0 0 0 0;\n",
              "      width: 32px;\n",
              "    }\n",
              "\n",
              "    .colab-df-convert:hover {\n",
              "      background-color: #E2EBFA;\n",
              "      box-shadow: 0px 1px 2px rgba(60, 64, 67, 0.3), 0px 1px 3px 1px rgba(60, 64, 67, 0.15);\n",
              "      fill: #174EA6;\n",
              "    }\n",
              "\n",
              "    [theme=dark] .colab-df-convert {\n",
              "      background-color: #3B4455;\n",
              "      fill: #D2E3FC;\n",
              "    }\n",
              "\n",
              "    [theme=dark] .colab-df-convert:hover {\n",
              "      background-color: #434B5C;\n",
              "      box-shadow: 0px 1px 3px 1px rgba(0, 0, 0, 0.15);\n",
              "      filter: drop-shadow(0px 1px 2px rgba(0, 0, 0, 0.3));\n",
              "      fill: #FFFFFF;\n",
              "    }\n",
              "  </style>\n",
              "\n",
              "      <script>\n",
              "        const buttonEl =\n",
              "          document.querySelector('#df-64255894-40ca-4942-8cd0-a41834cbc53f button.colab-df-convert');\n",
              "        buttonEl.style.display =\n",
              "          google.colab.kernel.accessAllowed ? 'block' : 'none';\n",
              "\n",
              "        async function convertToInteractive(key) {\n",
              "          const element = document.querySelector('#df-64255894-40ca-4942-8cd0-a41834cbc53f');\n",
              "          const dataTable =\n",
              "            await google.colab.kernel.invokeFunction('convertToInteractive',\n",
              "                                                     [key], {});\n",
              "          if (!dataTable) return;\n",
              "\n",
              "          const docLinkHtml = 'Like what you see? Visit the ' +\n",
              "            '<a target=\"_blank\" href=https://colab.research.google.com/notebooks/data_table.ipynb>data table notebook</a>'\n",
              "            + ' to learn more about interactive tables.';\n",
              "          element.innerHTML = '';\n",
              "          dataTable['output_type'] = 'display_data';\n",
              "          await google.colab.output.renderOutput(dataTable, element);\n",
              "          const docLink = document.createElement('div');\n",
              "          docLink.innerHTML = docLinkHtml;\n",
              "          element.appendChild(docLink);\n",
              "        }\n",
              "      </script>\n",
              "    </div>\n",
              "  </div>\n",
              "  "
            ]
          },
          "metadata": {},
          "execution_count": 2
        }
      ]
    },
    {
      "cell_type": "code",
      "source": [
        "df_initial['Promotion'].value_counts()"
      ],
      "metadata": {
        "id": "TCtsrUHD_UA2"
      },
      "execution_count": null,
      "outputs": []
    },
    {
      "cell_type": "code",
      "metadata": {
        "colab": {
          "base_uri": "https://localhost:8080/"
        },
        "id": "9VEGzM6pVh2x",
        "outputId": "81d8273a-2a7a-460f-e8e4-97b179d77996"
      },
      "source": [
        "print(\"Rows: \", df_initial.shape[0])\n",
        "print(\"Columns: \", df_initial.shape[1])\n",
        "print(\"\\nFeatures: \\n \", df_initial.columns.tolist())\n",
        "print(\"\\nMissing values:  \", df_initial.isnull().sum().values.sum())\n",
        "print('\\nUnique values:  \\n', df_initial.nunique())"
      ],
      "execution_count": 8,
      "outputs": [
        {
          "output_type": "stream",
          "name": "stdout",
          "text": [
            "Rows:  548\n",
            "Columns:  7\n",
            "\n",
            "Features: \n",
            "  ['MarketID', 'MarketSize', 'LocationID', 'AgeOfStore', 'Promotion', 'week', 'SalesInThousands']\n",
            "\n",
            "Missing values:   0\n",
            "\n",
            "Unique values:  \n",
            " MarketID             10\n",
            "MarketSize            3\n",
            "LocationID          137\n",
            "AgeOfStore           25\n",
            "Promotion             3\n",
            "week                  4\n",
            "SalesInThousands    517\n",
            "dtype: int64\n"
          ]
        }
      ]
    },
    {
      "cell_type": "code",
      "metadata": {
        "colab": {
          "base_uri": "https://localhost:8080/",
          "height": 174
        },
        "id": "K9a1vfnmXGyk",
        "outputId": "d730b908-9a67-4bd2-ba08-89b9b73a0ad9"
      },
      "source": [
        "SalesInThousands=pd.DataFrame(df_initial.groupby('Promotion').sum()['SalesInThousands'])\n",
        "SalesInThousands"
      ],
      "execution_count": 9,
      "outputs": [
        {
          "output_type": "execute_result",
          "data": {
            "text/plain": [
              "           SalesInThousands\n",
              "Promotion                  \n",
              "1                   9993.03\n",
              "2                   8897.93\n",
              "3                  10408.52"
            ],
            "text/html": [
              "\n",
              "  <div id=\"df-7e18784a-d2aa-43f1-ad7a-2c241f288fb9\">\n",
              "    <div class=\"colab-df-container\">\n",
              "      <div>\n",
              "<style scoped>\n",
              "    .dataframe tbody tr th:only-of-type {\n",
              "        vertical-align: middle;\n",
              "    }\n",
              "\n",
              "    .dataframe tbody tr th {\n",
              "        vertical-align: top;\n",
              "    }\n",
              "\n",
              "    .dataframe thead th {\n",
              "        text-align: right;\n",
              "    }\n",
              "</style>\n",
              "<table border=\"1\" class=\"dataframe\">\n",
              "  <thead>\n",
              "    <tr style=\"text-align: right;\">\n",
              "      <th></th>\n",
              "      <th>SalesInThousands</th>\n",
              "    </tr>\n",
              "    <tr>\n",
              "      <th>Promotion</th>\n",
              "      <th></th>\n",
              "    </tr>\n",
              "  </thead>\n",
              "  <tbody>\n",
              "    <tr>\n",
              "      <th>1</th>\n",
              "      <td>9993.03</td>\n",
              "    </tr>\n",
              "    <tr>\n",
              "      <th>2</th>\n",
              "      <td>8897.93</td>\n",
              "    </tr>\n",
              "    <tr>\n",
              "      <th>3</th>\n",
              "      <td>10408.52</td>\n",
              "    </tr>\n",
              "  </tbody>\n",
              "</table>\n",
              "</div>\n",
              "      <button class=\"colab-df-convert\" onclick=\"convertToInteractive('df-7e18784a-d2aa-43f1-ad7a-2c241f288fb9')\"\n",
              "              title=\"Convert this dataframe to an interactive table.\"\n",
              "              style=\"display:none;\">\n",
              "        \n",
              "  <svg xmlns=\"http://www.w3.org/2000/svg\" height=\"24px\"viewBox=\"0 0 24 24\"\n",
              "       width=\"24px\">\n",
              "    <path d=\"M0 0h24v24H0V0z\" fill=\"none\"/>\n",
              "    <path d=\"M18.56 5.44l.94 2.06.94-2.06 2.06-.94-2.06-.94-.94-2.06-.94 2.06-2.06.94zm-11 1L8.5 8.5l.94-2.06 2.06-.94-2.06-.94L8.5 2.5l-.94 2.06-2.06.94zm10 10l.94 2.06.94-2.06 2.06-.94-2.06-.94-.94-2.06-.94 2.06-2.06.94z\"/><path d=\"M17.41 7.96l-1.37-1.37c-.4-.4-.92-.59-1.43-.59-.52 0-1.04.2-1.43.59L10.3 9.45l-7.72 7.72c-.78.78-.78 2.05 0 2.83L4 21.41c.39.39.9.59 1.41.59.51 0 1.02-.2 1.41-.59l7.78-7.78 2.81-2.81c.8-.78.8-2.07 0-2.86zM5.41 20L4 18.59l7.72-7.72 1.47 1.35L5.41 20z\"/>\n",
              "  </svg>\n",
              "      </button>\n",
              "      \n",
              "  <style>\n",
              "    .colab-df-container {\n",
              "      display:flex;\n",
              "      flex-wrap:wrap;\n",
              "      gap: 12px;\n",
              "    }\n",
              "\n",
              "    .colab-df-convert {\n",
              "      background-color: #E8F0FE;\n",
              "      border: none;\n",
              "      border-radius: 50%;\n",
              "      cursor: pointer;\n",
              "      display: none;\n",
              "      fill: #1967D2;\n",
              "      height: 32px;\n",
              "      padding: 0 0 0 0;\n",
              "      width: 32px;\n",
              "    }\n",
              "\n",
              "    .colab-df-convert:hover {\n",
              "      background-color: #E2EBFA;\n",
              "      box-shadow: 0px 1px 2px rgba(60, 64, 67, 0.3), 0px 1px 3px 1px rgba(60, 64, 67, 0.15);\n",
              "      fill: #174EA6;\n",
              "    }\n",
              "\n",
              "    [theme=dark] .colab-df-convert {\n",
              "      background-color: #3B4455;\n",
              "      fill: #D2E3FC;\n",
              "    }\n",
              "\n",
              "    [theme=dark] .colab-df-convert:hover {\n",
              "      background-color: #434B5C;\n",
              "      box-shadow: 0px 1px 3px 1px rgba(0, 0, 0, 0.15);\n",
              "      filter: drop-shadow(0px 1px 2px rgba(0, 0, 0, 0.3));\n",
              "      fill: #FFFFFF;\n",
              "    }\n",
              "  </style>\n",
              "\n",
              "      <script>\n",
              "        const buttonEl =\n",
              "          document.querySelector('#df-7e18784a-d2aa-43f1-ad7a-2c241f288fb9 button.colab-df-convert');\n",
              "        buttonEl.style.display =\n",
              "          google.colab.kernel.accessAllowed ? 'block' : 'none';\n",
              "\n",
              "        async function convertToInteractive(key) {\n",
              "          const element = document.querySelector('#df-7e18784a-d2aa-43f1-ad7a-2c241f288fb9');\n",
              "          const dataTable =\n",
              "            await google.colab.kernel.invokeFunction('convertToInteractive',\n",
              "                                                     [key], {});\n",
              "          if (!dataTable) return;\n",
              "\n",
              "          const docLinkHtml = 'Like what you see? Visit the ' +\n",
              "            '<a target=\"_blank\" href=https://colab.research.google.com/notebooks/data_table.ipynb>data table notebook</a>'\n",
              "            + ' to learn more about interactive tables.';\n",
              "          element.innerHTML = '';\n",
              "          dataTable['output_type'] = 'display_data';\n",
              "          await google.colab.output.renderOutput(dataTable, element);\n",
              "          const docLink = document.createElement('div');\n",
              "          docLink.innerHTML = docLinkHtml;\n",
              "          element.appendChild(docLink);\n",
              "        }\n",
              "      </script>\n",
              "    </div>\n",
              "  </div>\n",
              "  "
            ]
          },
          "metadata": {},
          "execution_count": 9
        }
      ]
    },
    {
      "cell_type": "code",
      "metadata": {
        "id": "X1LWuVJgYIiE"
      },
      "source": [
        "SalesInThousands.rename(index={1: 'Promotion 1', 2: 'Promotion 2', 3: 'Promotion 3'}, inplace =True)"
      ],
      "execution_count": null,
      "outputs": []
    },
    {
      "cell_type": "code",
      "metadata": {
        "colab": {
          "base_uri": "https://localhost:8080/",
          "height": 502
        },
        "id": "dxpmDkUGbiax",
        "outputId": "0701063e-b4a3-44bb-e47f-1afb34f46053"
      },
      "source": [
        "plt.style.use(\"ggplot\")\n",
        "SalesInThousands.plot.pie(figsize=(8,8),\\\n",
        "                  title=\"Sales Distribution Across the 3 Different Promotions\", legend=False,\\\n",
        "                   autopct='%1.1f%%', explode=(0, 0, 0.1), \\\n",
        "                   shadow=True, y='SalesInThousands',ylabel='',startangle=0)\n"
      ],
      "execution_count": null,
      "outputs": [
        {
          "output_type": "execute_result",
          "data": {
            "text/plain": [
              "<matplotlib.axes._subplots.AxesSubplot at 0x7fcd6ffcb5d0>"
            ]
          },
          "metadata": {},
          "execution_count": 78
        },
        {
          "output_type": "display_data",
          "data": {
            "image/png": "[encoded data removed]",
            "text/plain": [
              "<Figure size 576x576 with 1 Axes>"
            ]
          },
          "metadata": {}
        }
      ]
    },
    {
      "cell_type": "code",
      "metadata": {
        "id": "VNa5RRLWKDdp"
      },
      "source": [
        "age=pd.DataFrame(df_initial['AgeOfStore'].value_counts())\n",
        "age.sort_index(ascending=True, inplace=True)\n",
        "age"
      ],
      "execution_count": null,
      "outputs": []
    },
    {
      "cell_type": "code",
      "metadata": {
        "colab": {
          "base_uri": "https://localhost:8080/",
          "height": 541
        },
        "id": "Ndeu7hYf5sl5",
        "outputId": "d4ce4e01-aa9c-4044-a521-edc4e777870b"
      },
      "source": [
        "age.plot(kind=\"bar\", figsize=(10,8), legend=False, title=\"Age Distribution of Stores\", xlabel=\"Year\", ylabel='Number of Stores')"
      ],
      "execution_count": null,
      "outputs": [
        {
          "output_type": "execute_result",
          "data": {
            "text/plain": [
              "<matplotlib.axes._subplots.AxesSubplot at 0x7fcd5ff8a850>"
            ]
          },
          "metadata": {},
          "execution_count": 240
        },
        {
          "output_type": "display_data",
          "data": {
            "image/png": "[encoded data removed]",
            "text/plain": [
              "<Figure size 720x576 with 1 Axes>"
            ]
          },
          "metadata": {}
        }
      ]
    },
    {
      "cell_type": "markdown",
      "metadata": {
        "id": "kCCh-w0rfjPp"
      },
      "source": [
        "Check the 3 campaigns if the data is roughly similar with respect to age and market size"
      ]
    },
    {
      "cell_type": "code",
      "metadata": {
        "colab": {
          "base_uri": "https://localhost:8080/",
          "height": 479
        },
        "id": "YoEPEQKp3BjY",
        "outputId": "c6ded3fb-ad73-41dd-f1c1-30741180666b"
      },
      "source": [
        "import seaborn as sns\n",
        "sns.set()\n",
        "import matplotlib.pyplot as plt\n",
        "from cycler import cycler\n",
        "import numpy as np\n",
        "\n",
        "N = 28 # number of colors\n",
        "plt.rcParams[\"axes.prop_cycle\"] = cycler('color', plt.cm.jet(np.linspace(0,1,N)) )\n",
        "\n",
        "sns.color_palette(\"rocket\", as_cmap=True)\n",
        "AgeOfStore=pd.DataFrame(df_initial.groupby(['Promotion', 'AgeOfStore']).count()['MarketID'].unstack('AgeOfStore'))\n",
        "AgeOfStore.rename(index={1: 'Promotion 1', 2: 'Promotion 2', 3: 'Promotion 3'}, inplace=True)\n",
        "AgeOfStore.plot(kind=\"bar\", figsize=(20,8),\\\n",
        "                title=\"Age Distribution of Stores in the 3 Different Promotions\", ylabel='Number of Stores')"
      ],
      "execution_count": 10,
      "outputs": [
        {
          "output_type": "execute_result",
          "data": {
            "text/plain": [
              "<matplotlib.axes._subplots.AxesSubplot at 0x7f7327233b80>"
            ]
          },
          "metadata": {},
          "execution_count": 10
        },
        {
          "output_type": "display_data",
          "data": {
            "text/plain": [
              "<Figure size 1440x576 with 1 Axes>"
            ],
            "image/png": "[encoded data removed]"
          },
          "metadata": {}
        }
      ]
    },
    {
      "cell_type": "code",
      "metadata": {
        "colab": {
          "base_uri": "https://localhost:8080/",
          "height": 1000
        },
        "id": "sQK5y6LiOh51",
        "outputId": "5c268b3b-2346-49d9-8e5d-d377a1f010fc"
      },
      "source": [
        "\n",
        "N = 4 # number of colors\n",
        "plt.rcParams[\"axes.prop_cycle\"] = cycler('color', plt.cm.jet(np.linspace(0,1,N)) )\n",
        "ax=df_initial.groupby(['AgeOfStore', 'Promotion']).count()['MarketID'].unstack('Promotion').iloc[::-1].plot(kind='barh',\\\n",
        "figsize=(14,18), grid=True)\n",
        "ax.set_ylabel('age')\n",
        "ax.set_xlabel('count')\n",
        "ax.set_title('overall distributions on the age of stores')"
      ],
      "execution_count": 11,
      "outputs": [
        {
          "output_type": "execute_result",
          "data": {
            "text/plain": [
              "Text(0.5, 1.0, 'overall distributions on the age of stores')"
            ]
          },
          "metadata": {},
          "execution_count": 11
        },
        {
          "output_type": "display_data",
          "data": {
            "text/plain": [
              "<Figure size 1008x1296 with 1 Axes>"
            ],
            "image/png": "[encoded data removed]"
          },
          "metadata": {}
        }
      ]
    },
    {
      "cell_type": "code",
      "metadata": {
        "colab": {
          "base_uri": "https://localhost:8080/",
          "height": 363
        },
        "id": "hjFqBBNMmAtO",
        "outputId": "8014dfde-82b8-4cae-ac0e-63c64fa86fe4"
      },
      "source": [
        "AgeOfStore=pd.DataFrame(df_initial.groupby(['Promotion', 'MarketSize']).sum()['AgeOfStore']/df_initial.groupby(['Promotion', 'MarketSize']).count()['AgeOfStore'])\n",
        "#simpler: AgeOfStore=pd.DataFrame(df_initial.groupby(['Promotion', 'MarketSize']).mean()['AgeOfStore'])\n",
        "AgeOfStore=AgeOfStore.rename(columns={'AgeOfStore': 'Average Age of Shops per Markets'})\n",
        "AgeOfStore"
      ],
      "execution_count": null,
      "outputs": [
        {
          "output_type": "execute_result",
          "data": {
            "text/html": [
              "<div>\n",
              "<style scoped>\n",
              "    .dataframe tbody tr th:only-of-type {\n",
              "        vertical-align: middle;\n",
              "    }\n",
              "\n",
              "    .dataframe tbody tr th {\n",
              "        vertical-align: top;\n",
              "    }\n",
              "\n",
              "    .dataframe thead th {\n",
              "        text-align: right;\n",
              "    }\n",
              "</style>\n",
              "<table border=\"1\" class=\"dataframe\">\n",
              "  <thead>\n",
              "    <tr style=\"text-align: right;\">\n",
              "      <th></th>\n",
              "      <th></th>\n",
              "      <th>Average Age of Shops per Markets</th>\n",
              "    </tr>\n",
              "    <tr>\n",
              "      <th>Promotion</th>\n",
              "      <th>MarketSize</th>\n",
              "      <th></th>\n",
              "    </tr>\n",
              "  </thead>\n",
              "  <tbody>\n",
              "    <tr>\n",
              "      <th rowspan=\"3\" valign=\"top\">1</th>\n",
              "      <th>Large</th>\n",
              "      <td>5.857143</td>\n",
              "    </tr>\n",
              "    <tr>\n",
              "      <th>Medium</th>\n",
              "      <td>9.125000</td>\n",
              "    </tr>\n",
              "    <tr>\n",
              "      <th>Small</th>\n",
              "      <td>11.000000</td>\n",
              "    </tr>\n",
              "    <tr>\n",
              "      <th rowspan=\"3\" valign=\"top\">2</th>\n",
              "      <th>Large</th>\n",
              "      <td>8.437500</td>\n",
              "    </tr>\n",
              "    <tr>\n",
              "      <th>Medium</th>\n",
              "      <td>7.481481</td>\n",
              "    </tr>\n",
              "    <tr>\n",
              "      <th>Small</th>\n",
              "      <td>9.500000</td>\n",
              "    </tr>\n",
              "    <tr>\n",
              "      <th rowspan=\"3\" valign=\"top\">3</th>\n",
              "      <th>Large</th>\n",
              "      <td>6.916667</td>\n",
              "    </tr>\n",
              "    <tr>\n",
              "      <th>Medium</th>\n",
              "      <td>9.724138</td>\n",
              "    </tr>\n",
              "    <tr>\n",
              "      <th>Small</th>\n",
              "      <td>11.500000</td>\n",
              "    </tr>\n",
              "  </tbody>\n",
              "</table>\n",
              "</div>"
            ],
            "text/plain": [
              "                      Average Age of Shops per Markets\n",
              "Promotion MarketSize                                  \n",
              "1         Large                               5.857143\n",
              "          Medium                              9.125000\n",
              "          Small                              11.000000\n",
              "2         Large                               8.437500\n",
              "          Medium                              7.481481\n",
              "          Small                               9.500000\n",
              "3         Large                               6.916667\n",
              "          Medium                              9.724138\n",
              "          Small                              11.500000"
            ]
          },
          "metadata": {},
          "execution_count": 125
        }
      ]
    },
    {
      "cell_type": "code",
      "metadata": {
        "colab": {
          "base_uri": "https://localhost:8080/",
          "height": 363
        },
        "id": "gyEZ-VvekZMS",
        "outputId": "0048322c-9b82-4633-b544-e7745fc3cc55"
      },
      "source": [
        "\n",
        "AgeOfStore"
      ],
      "execution_count": null,
      "outputs": [
        {
          "output_type": "execute_result",
          "data": {
            "text/html": [
              "<div>\n",
              "<style scoped>\n",
              "    .dataframe tbody tr th:only-of-type {\n",
              "        vertical-align: middle;\n",
              "    }\n",
              "\n",
              "    .dataframe tbody tr th {\n",
              "        vertical-align: top;\n",
              "    }\n",
              "\n",
              "    .dataframe thead th {\n",
              "        text-align: right;\n",
              "    }\n",
              "</style>\n",
              "<table border=\"1\" class=\"dataframe\">\n",
              "  <thead>\n",
              "    <tr style=\"text-align: right;\">\n",
              "      <th></th>\n",
              "      <th></th>\n",
              "      <th>AgeOfStore</th>\n",
              "    </tr>\n",
              "    <tr>\n",
              "      <th>Promotion</th>\n",
              "      <th>MarketSize</th>\n",
              "      <th></th>\n",
              "    </tr>\n",
              "  </thead>\n",
              "  <tbody>\n",
              "    <tr>\n",
              "      <th rowspan=\"3\" valign=\"top\">1</th>\n",
              "      <th>Large</th>\n",
              "      <td>5.857143</td>\n",
              "    </tr>\n",
              "    <tr>\n",
              "      <th>Medium</th>\n",
              "      <td>9.125000</td>\n",
              "    </tr>\n",
              "    <tr>\n",
              "      <th>Small</th>\n",
              "      <td>11.000000</td>\n",
              "    </tr>\n",
              "    <tr>\n",
              "      <th rowspan=\"3\" valign=\"top\">2</th>\n",
              "      <th>Large</th>\n",
              "      <td>8.437500</td>\n",
              "    </tr>\n",
              "    <tr>\n",
              "      <th>Medium</th>\n",
              "      <td>7.481481</td>\n",
              "    </tr>\n",
              "    <tr>\n",
              "      <th>Small</th>\n",
              "      <td>9.500000</td>\n",
              "    </tr>\n",
              "    <tr>\n",
              "      <th rowspan=\"3\" valign=\"top\">3</th>\n",
              "      <th>Large</th>\n",
              "      <td>6.916667</td>\n",
              "    </tr>\n",
              "    <tr>\n",
              "      <th>Medium</th>\n",
              "      <td>9.724138</td>\n",
              "    </tr>\n",
              "    <tr>\n",
              "      <th>Small</th>\n",
              "      <td>11.500000</td>\n",
              "    </tr>\n",
              "  </tbody>\n",
              "</table>\n",
              "</div>"
            ],
            "text/plain": [
              "                      AgeOfStore\n",
              "Promotion MarketSize            \n",
              "1         Large         5.857143\n",
              "          Medium        9.125000\n",
              "          Small        11.000000\n",
              "2         Large         8.437500\n",
              "          Medium        7.481481\n",
              "          Small         9.500000\n",
              "3         Large         6.916667\n",
              "          Medium        9.724138\n",
              "          Small        11.500000"
            ]
          },
          "metadata": {},
          "execution_count": 254
        }
      ]
    },
    {
      "cell_type": "code",
      "metadata": {
        "colab": {
          "base_uri": "https://localhost:8080/",
          "height": 175
        },
        "id": "ZjroyD9JQCHF",
        "outputId": "465a407a-fba5-45b1-abf1-5b34385dd5b5"
      },
      "source": [
        "df_initial.groupby('Promotion').describe()['AgeOfStore']"
      ],
      "execution_count": null,
      "outputs": [
        {
          "output_type": "execute_result",
          "data": {
            "text/html": [
              "<div>\n",
              "<style scoped>\n",
              "    .dataframe tbody tr th:only-of-type {\n",
              "        vertical-align: middle;\n",
              "    }\n",
              "\n",
              "    .dataframe tbody tr th {\n",
              "        vertical-align: top;\n",
              "    }\n",
              "\n",
              "    .dataframe thead th {\n",
              "        text-align: right;\n",
              "    }\n",
              "</style>\n",
              "<table border=\"1\" class=\"dataframe\">\n",
              "  <thead>\n",
              "    <tr style=\"text-align: right;\">\n",
              "      <th></th>\n",
              "      <th>count</th>\n",
              "      <th>mean</th>\n",
              "      <th>std</th>\n",
              "      <th>min</th>\n",
              "      <th>25%</th>\n",
              "      <th>50%</th>\n",
              "      <th>75%</th>\n",
              "      <th>max</th>\n",
              "    </tr>\n",
              "    <tr>\n",
              "      <th>Promotion</th>\n",
              "      <th></th>\n",
              "      <th></th>\n",
              "      <th></th>\n",
              "      <th></th>\n",
              "      <th></th>\n",
              "      <th></th>\n",
              "      <th></th>\n",
              "      <th></th>\n",
              "    </tr>\n",
              "  </thead>\n",
              "  <tbody>\n",
              "    <tr>\n",
              "      <th>1</th>\n",
              "      <td>172.0</td>\n",
              "      <td>8.279070</td>\n",
              "      <td>6.636160</td>\n",
              "      <td>1.0</td>\n",
              "      <td>3.0</td>\n",
              "      <td>6.0</td>\n",
              "      <td>12.0</td>\n",
              "      <td>27.0</td>\n",
              "    </tr>\n",
              "    <tr>\n",
              "      <th>2</th>\n",
              "      <td>188.0</td>\n",
              "      <td>7.978723</td>\n",
              "      <td>6.597648</td>\n",
              "      <td>1.0</td>\n",
              "      <td>3.0</td>\n",
              "      <td>7.0</td>\n",
              "      <td>10.0</td>\n",
              "      <td>28.0</td>\n",
              "    </tr>\n",
              "    <tr>\n",
              "      <th>3</th>\n",
              "      <td>188.0</td>\n",
              "      <td>9.234043</td>\n",
              "      <td>6.651646</td>\n",
              "      <td>1.0</td>\n",
              "      <td>5.0</td>\n",
              "      <td>8.0</td>\n",
              "      <td>12.0</td>\n",
              "      <td>24.0</td>\n",
              "    </tr>\n",
              "  </tbody>\n",
              "</table>\n",
              "</div>"
            ],
            "text/plain": [
              "           count      mean       std  min  25%  50%   75%   max\n",
              "Promotion                                                      \n",
              "1          172.0  8.279070  6.636160  1.0  3.0  6.0  12.0  27.0\n",
              "2          188.0  7.978723  6.597648  1.0  3.0  7.0  10.0  28.0\n",
              "3          188.0  9.234043  6.651646  1.0  5.0  8.0  12.0  24.0"
            ]
          },
          "metadata": {},
          "execution_count": 250
        }
      ]
    },
    {
      "cell_type": "code",
      "metadata": {
        "id": "WBeKYZa4zvu3"
      },
      "source": [
        "MarketSize=pd.DataFrame(df_initial.groupby(['Promotion', 'MarketSize']).count()['MarketID'].unstack('MarketSize'))\n",
        "MarketSize.rename(index={1: 'Promotion 1', 2: 'Promotion 2', 3: 'Promotion 3'}, inplace=True)"
      ],
      "execution_count": null,
      "outputs": []
    },
    {
      "cell_type": "code",
      "metadata": {
        "colab": {
          "base_uri": "https://localhost:8080/",
          "height": 569
        },
        "id": "HhAWXYDu0jHc",
        "outputId": "4e6364db-c22d-4737-a784-80df0af949d2"
      },
      "source": [
        "MarketSize.plot(kind=\"bar\", figsize=(8,8),\\\n",
        "                title=\"Market Sizes Across the 3 Different Promotions\", xlabel='', ylabel='Number of Stores')"
      ],
      "execution_count": null,
      "outputs": [
        {
          "output_type": "execute_result",
          "data": {
            "text/plain": [
              "<matplotlib.axes._subplots.AxesSubplot at 0x7fcd6f910e10>"
            ]
          },
          "metadata": {},
          "execution_count": 161
        },
        {
          "output_type": "display_data",
          "data": {
            "image/png": "[encoded data removed]",
            "text/plain": [
              "<Figure size 576x576 with 1 Axes>"
            ]
          },
          "metadata": {}
        }
      ]
    },
    {
      "cell_type": "code",
      "metadata": {
        "colab": {
          "base_uri": "https://localhost:8080/",
          "height": 406
        },
        "id": "gxmWNS-u2P7W",
        "outputId": "c90c4645-9201-4c0c-d062-a959c1f9105f"
      },
      "source": [
        "MarketSize.plot(kind=\"bar\", figsize=(14,5),\\\n",
        "                title=\"Market Sizes Across the 3 Different Promotions\", xlabel='', stacked=True, ylabel='Number of Stores')"
      ],
      "execution_count": null,
      "outputs": [
        {
          "output_type": "execute_result",
          "data": {
            "text/plain": [
              "<matplotlib.axes._subplots.AxesSubplot at 0x7fcd6f799390>"
            ]
          },
          "metadata": {},
          "execution_count": 164
        },
        {
          "output_type": "display_data",
          "data": {
            "image/png": "[encoded data removed]",
            "text/plain": [
              "<Figure size 1008x360 with 1 Axes>"
            ]
          },
          "metadata": {}
        }
      ]
    },
    {
      "cell_type": "markdown",
      "metadata": {
        "id": "B7k7BAoUJp9p"
      },
      "source": [
        "A/B TESTING"
      ]
    },
    {
      "cell_type": "markdown",
      "metadata": {
        "id": "14kAo8wJ7FBX"
      },
      "source": [
        "Check the distribution of the Sales in Thousands values and the sample size by promotion to check if we can perform independent t-test. T-test can be done if the distribution is normal, or if it is not normal, we should have sample size more then 30. If n<30 and we don't have normal distribution, I will consider using Mann-Whitney U test."
      ]
    },
    {
      "cell_type": "code",
      "metadata": {
        "colab": {
          "base_uri": "https://localhost:8080/",
          "height": 1000
        },
        "id": "BUomx52r7iuW",
        "outputId": "1e886b88-fec2-4fd2-b493-3f888b5e8e44"
      },
      "source": [
        "import matplotlib.pyplot as plt\n",
        "import seaborn as sns\n",
        "plt.figure(figsize=(10,16))\n",
        "for i in range(3):\n",
        "  plt.subplot(3, 1, i+1)\n",
        "  sns.histplot(df_initial.loc[df_initial['Promotion']==i+1]['SalesInThousands'], bins=35, kde=True)\n",
        "  plt.title(\"Promotion\"+str(i+1))\n",
        "  print(\"Promotion\"+str(i+1)+\":\", \"n=\", len(df_initial.loc[df_initial['Promotion']==i+1]))"
      ],
      "execution_count": null,
      "outputs": [
        {
          "output_type": "stream",
          "name": "stdout",
          "text": [
            "Promotion1: n= 172\n",
            "Promotion2: n= 188\n",
            "Promotion3: n= 188\n"
          ]
        },
        {
          "output_type": "display_data",
          "data": {
            "image/png": "[encoded data removed]",
            "text/plain": [
              "<Figure size 720x1152 with 3 Axes>"
            ]
          },
          "metadata": {
            "needs_background": "light"
          }
        }
      ]
    },
    {
      "cell_type": "markdown",
      "metadata": {
        "id": "YTUBTuKWJwTF"
      },
      "source": [
        "INDEPENDENT T-TEST"
      ]
    },
    {
      "cell_type": "markdown",
      "metadata": {
        "id": "3AYtRbUKOEUZ"
      },
      "source": [
        "We don't have normal distribution, but the sample size is more than 30, so I will use independent t test."
      ]
    },
    {
      "cell_type": "markdown",
      "metadata": {
        "id": "J_oqgOC3jaDJ"
      },
      "source": [
        "Check the Sales in Thousands values and calculate \"p\" and \"t\" values to see if there is difference between sales promotions with respect performance"
      ]
    },
    {
      "cell_type": "markdown",
      "metadata": {
        "id": "cKQ45SAvoOOI"
      },
      "source": [
        "Promotion 1 vs Promotion 2"
      ]
    },
    {
      "cell_type": "code",
      "metadata": {
        "colab": {
          "base_uri": "https://localhost:8080/"
        },
        "id": "nKJ5YMn3jxeb",
        "outputId": "eaa52e22-c2a3-4d2d-a812-f3642c26eb49"
      },
      "source": [
        "\n",
        "means=df_initial.groupby('Promotion').mean()['SalesInThousands']\n",
        "stds=df_initial.groupby('Promotion').std()['SalesInThousands']\n",
        "ns=df_initial.groupby('Promotion').count()['SalesInThousands']\n",
        "\n",
        "from scipy import stats\n",
        "\n",
        "t, p=stats.ttest_ind(df_initial.loc[df_initial['Promotion']==1, 'SalesInThousands'].values,\n",
        "                     df_initial.loc[df_initial['Promotion']==2, 'SalesInThousands'].values,\n",
        "                     equal_var=False)\n",
        "\n",
        "print(means)\n",
        "print('t-value=' +str(t))\n",
        "print('p-value=' +str(p))"
      ],
      "execution_count": null,
      "outputs": [
        {
          "output_type": "stream",
          "name": "stdout",
          "text": [
            "Promotion\n",
            "1    58.099012\n",
            "2    47.329415\n",
            "3    55.364468\n",
            "Name: SalesInThousands, dtype: float64\n",
            "t-value=6.42752867090748\n",
            "p-value=4.2903687179871785e-10\n"
          ]
        }
      ]
    },
    {
      "cell_type": "markdown",
      "metadata": {
        "id": "Z8hg42Qem8n3"
      },
      "source": [
        "Analysis of P and T-values<br>\n",
        "<br>\n",
        "Our P-value is close to 0 which suggest that there is a good evience to reject the \n",
        "null hypthesis. The alternativ hypothesis is there is a statistical difference between\n",
        "the two groups. Our threshold rejecting the null is 0.05. So p value show if the difference is reliable, t value show how big the difference is.<br>\n",
        "<br>\n",
        "Our t-test shows that the marketing performances for these two groups are significantly different\n",
        "and that the promotion group 1 outperforms promotion group 2.(Mean of promotion 1 larger than mean of promotion 2). Large t-values indicate high degree of differences between the two groups. Telling the truth 6 is not so high."
      ]
    },
    {
      "cell_type": "markdown",
      "metadata": {
        "id": "iahNRlPgoR8W"
      },
      "source": [
        "Promotion 1 vs Promotion 3"
      ]
    },
    {
      "cell_type": "code",
      "metadata": {
        "colab": {
          "base_uri": "https://localhost:8080/"
        },
        "id": "YhgCwPOsoU1q",
        "outputId": "1008c0fb-59b2-4a43-b2f0-fde240067878"
      },
      "source": [
        "means=df_initial.groupby('Promotion').mean()['SalesInThousands']\n",
        "stds=df_initial.groupby('Promotion').std()['SalesInThousands']\n",
        "ns=df_initial.groupby('Promotion').count()['SalesInThousands']\n",
        "\n",
        "from scipy import stats\n",
        "\n",
        "t, p=stats.ttest_ind(df_initial.loc[df_initial['Promotion']==1, 'SalesInThousands'].values,\n",
        "                     df_initial.loc[df_initial['Promotion']==3, 'SalesInThousands'].values,\n",
        "                     equal_var=False)\n",
        "\n",
        "print(means)\n",
        "print('t-value=' +str(t))\n",
        "print('p-value=' +str(p))"
      ],
      "execution_count": null,
      "outputs": [
        {
          "output_type": "stream",
          "name": "stdout",
          "text": [
            "Promotion\n",
            "1    58.099012\n",
            "2    47.329415\n",
            "3    55.364468\n",
            "Name: SalesInThousands, dtype: float64\n",
            "t-value=1.5560224307758634\n",
            "p-value=0.12059147742229478\n"
          ]
        }
      ]
    },
    {
      "cell_type": "markdown",
      "metadata": {
        "id": "Zs6FSuQwokHP"
      },
      "source": [
        "According to the p and t value we can state that null hyptotesis can't be rejected and there is no evidence that any of these two groups outperform the other, in spite of the fact that the mean of group 1 is slightly larger compared to the mean of group 3, this diference can be considered that it is due to  random chance. "
      ]
    },
    {
      "cell_type": "markdown",
      "metadata": {
        "id": "oQS_iSh1G_lP"
      },
      "source": [
        "2.) A/B TEST FOR DATASET WITH DESCRETE VALUE</br>\n",
        "Webdesign test"
      ]
    },
    {
      "cell_type": "markdown",
      "metadata": {
        "id": "wcjZx5lPIB7J"
      },
      "source": [
        "I perform an A/B test for check two different WEBDESIGN, where I test a banner with green button or red button. The metric will be the click -through rate, showing how many people clicked on the banner with red button and how many people clicked on the banner with green button. Both banners take to the same webpage.  By means of the A/B test we can decide which button is more effective and produce more click through rate in the real life."
      ]
    },
    {
      "cell_type": "code",
      "metadata": {
        "colab": {
          "base_uri": "https://localhost:8080/"
        },
        "id": "I9RVB7SsHxHl",
        "outputId": "8f5ae4b4-0972-49e0-9548-613898d7b848"
      },
      "source": [
        "#Calculate the sample size\n",
        "from scipy.stats import norm, zscore\n",
        "\n",
        "def sample_power_probtest(p1, p2, power=0.8, sig=0.05):\n",
        "    z = norm.isf([sig/2]) #two-sided t test\n",
        "    zp = -1 * norm.isf([power]) \n",
        "    d = (p1-p2)\n",
        "    s =2*((p1+p2) /2)*(1-((p1+p2) /2))\n",
        "    n = s * ((zp + z)**2) / (d**2)\n",
        "    return print(\"Suggested sample size: \", int(round(n[0])))\n",
        "\n",
        "sample_power_probtest(p1=0.5, p2=0.75, power=0.8, sig=0.05)\n",
        "\n",
        "#p1 I suppose 50% people will click on the button on the banner\n",
        "#p2 = p1 +effect size, strength of difference, for example R, coeficient in regression, larger the effect, larger the power (how much effect we want to achive with testing (how much % of the population it effect)\n",
        "#power=statistical power  prob that we correctly reject the 0 hypotesis, function of effect size, alpha, sample size etc. (power is larger if we increase the sampel size, if we relax alpha value, even 0.1 or 0.15(bigger the prob to find sg), 80% is acceptable)\n",
        "#sig=significance level (alpha, highest level of p we tolerate)"
      ],
      "execution_count": null,
      "outputs": [
        {
          "output_type": "stream",
          "name": "stdout",
          "text": [
            "Suggested sample size:  59\n"
          ]
        }
      ]
    },
    {
      "cell_type": "markdown",
      "metadata": {
        "id": "JADTJQZlQiTO"
      },
      "source": [
        "I choose 60 people for N_control(showing red button) and also 60 for N_experiment (showing this group the green button)</br>\n",
        "Let's see the result after the experiment, how many people clicked on the banner from the groups:</br>\n",
        "</br>\n",
        "X_control(red button on the banner)=33</br>\n",
        "X_experiment(green button on the banner)=44</br>"
      ]
    },
    {
      "cell_type": "code",
      "metadata": {
        "id": "Pd0yjgz5HxEm"
      },
      "source": [
        "p_control=33/60\n",
        "p_experiment=44/60"
      ],
      "execution_count": null,
      "outputs": []
    },
    {
      "cell_type": "code",
      "metadata": {
        "id": "GRKl730jHxBh"
      },
      "source": [
        "#standard error (population proportion)  for control\n",
        "import numpy as np\n",
        "se_control = np.sqrt(p_control * (1 - p_control) / 60)\n",
        "\n",
        "#standard error for experiment\n",
        "se_experiment = np.sqrt(p_experiment * (1 - p_experiment) / 60)\n",
        "\n",
        "#calculate confidence interval for control group\n",
        "z_score = 1.96  #for 95% confidence interval\n",
        "lower_limit = p_control - z_score* se_control #lower limit of the CI\n",
        "upper_limit = p_control + z_score* se_control #upper limit of the CI\n",
        "\n",
        "\n"
      ],
      "execution_count": null,
      "outputs": []
    },
    {
      "cell_type": "code",
      "metadata": {
        "id": "etGlVO-1dyUx"
      },
      "source": [
        "#Calculation the confidence interval of the difference in the population proportion of control and experiment group clicking on the banner\n",
        "\n",
        "# calculate the difference in the standard error of control and experiment group clicking on the banner.\n",
        "se_diff = np.sqrt(se_control**2 + se_experiment **2)\n",
        "\n",
        "#Construct the confidence interval for the difference\n",
        "#if the range imply 0 we can say the control and experiment group clicking on the banner is the same.\n",
        "\n",
        "d=p_experiment - p_control\n",
        "\n",
        "lci = d - 1.96 * se_diff  #lower limit of the CI\n",
        "uci = d + 1.96 * se_diff  #upper limit of the CI"
      ],
      "execution_count": null,
      "outputs": []
    },
    {
      "cell_type": "code",
      "metadata": {
        "id": "3B1FUHoQHw_E",
        "colab": {
          "base_uri": "https://localhost:8080/"
        },
        "outputId": "d2859aad-621f-4c67-ae57-88028021bbee"
      },
      "source": [
        "lci"
      ],
      "execution_count": null,
      "outputs": [
        {
          "output_type": "execute_result",
          "data": {
            "text/plain": [
              "0.014907176307857012"
            ]
          },
          "metadata": {},
          "execution_count": 96
        }
      ]
    },
    {
      "cell_type": "code",
      "metadata": {
        "id": "eUD9rKs3Hw6d",
        "colab": {
          "base_uri": "https://localhost:8080/"
        },
        "outputId": "b5021a49-0960-4ce4-a1b7-4ff5f3ee2840"
      },
      "source": [
        "uci"
      ],
      "execution_count": null,
      "outputs": [
        {
          "output_type": "execute_result",
          "data": {
            "text/plain": [
              "0.3517594903588095"
            ]
          },
          "metadata": {},
          "execution_count": 97
        }
      ]
    },
    {
      "cell_type": "markdown",
      "metadata": {
        "id": "M5b3T6At9GYY"
      },
      "source": [
        "The Confidence interval is 0.01 and 0.35 This range does not have 0 in it. Both the numbers are above zero. So, we cannot make any conclusion that the control population clicking on the banner is the same as the experiment population clicking on the banner. More people clicked on the banner with green button, so we can say, that the green button is expected to produce higher click -through rate. "
      ]
    },
    {
      "cell_type": "code",
      "metadata": {
        "id": "jkEOX_qm9CZJ"
      },
      "source": [],
      "execution_count": null,
      "outputs": []
    }
  ]
}